{
 "cells": [
  {
   "cell_type": "markdown",
   "metadata": {},
   "source": [
    "# Analysis dataset\n",
    "\n",
    "This notebook is created to analyze the dataset I created in the notebook living_population. Here is where I get all the data with errors hopefully. \n",
    "\n",
    "Ylva Götberg\n",
    "\n",
    "18 October 2019"
   ]
  },
  {
   "cell_type": "code",
   "execution_count": 3,
   "metadata": {},
   "outputs": [],
   "source": [
    "# Import some packages\n",
    "import numpy as np\n",
    "import scipy\n",
    "from scipy import stats  \n",
    "import matplotlib.pyplot as plt\n",
    "import copy\n",
    "from scipy.optimize import curve_fit\n",
    "from scipy.special import factorial\n",
    "import os\n",
    "from astropy.coordinates import SkyCoord\n",
    "from astropy.coordinates import ICRS, Galactic, GeocentricTrueEcliptic\n",
    "from astropy.coordinates import Angle, Latitude, Longitude\n",
    "import astropy.units as u\n",
    "import astropy.constants as const\n",
    "%matplotlib inline\n",
    "# This one makes LaTeX in the plots\n",
    "from matplotlib import rc\n",
    "fsize = 20\n",
    "rc('font',**{'family':'serif','serif':['Times'],'size'   : fsize})\n",
    "rc('text', usetex=True)\n",
    "\n",
    "import sys\n",
    "sys.path.insert(0, '../')\n",
    "#from GetColumnMESA import GetColumnMESA\n",
    "#from extrapolate import extrapolate\n",
    "G = const.G.to('AU3/(M_sun d2)').value\n",
    "pc_SI = u.pc.to(u.m)\n",
    "AU_SI = u.AU.to(u.m)\n",
    "c_SI = const.c.value\n",
    "c_AUday = c_SI*u.m.to(u.AU)/(u.s.to(u.day))\n",
    "h_SI = const.h.value\n",
    "kB_SI = const.k_B.value\n",
    "b_wien_SI = const.b_wien.value\n",
    "RSun_SI = u.R_sun.to(u.m)\n",
    "G_cgs = const.G.to('cm^3 g^-1 s^-2').value"
   ]
  },
  {
   "cell_type": "code",
   "execution_count": null,
   "metadata": {},
   "outputs": [],
   "source": []
  },
  {
   "cell_type": "code",
   "execution_count": 5,
   "metadata": {},
   "outputs": [
    {
     "name": "stdout",
     "output_type": "stream",
     "text": [
      "1.0041998025415852e-06\n",
      "0.5588974421025447\n",
      "5.787037037037037e-08 5.787037037037037e-06\n",
      "322.0833333333333\n"
     ]
    }
   ],
   "source": [
    "# This I believe is an estimate for rotation rates of stripped stars as\n",
    "# expected from first Fuller+19 and then Spruit dynamo\n",
    "Omega = 10 ** (-5.2)  # radians/second\n",
    "Omega = Omega / (2.0 * np.pi)  # s^-1\n",
    "print (Omega)\n",
    "Rstar = 0.8 * u.R_sun.to(u.km)  # Radius of star in km\n",
    "vrot = Rstar * Omega\n",
    "print (vrot)\n",
    "\n",
    "Omega_new = 1.0 / (200.0 * 24.0 * 3600.0)\n",
    "Omega_TS = 1.0 / (2.0 * 24.0 * 3600.0)\n",
    "print (Omega_new, Omega_TS)\n",
    "vrot_TS = Rstar * (Omega_TS * 100.0)\n",
    "print (vrot_TS)"
   ]
  },
  {
   "cell_type": "code",
   "execution_count": 6,
   "metadata": {
    "scrolled": true
   },
   "outputs": [
    {
     "name": "stdout",
     "output_type": "stream",
     "text": [
      "[   49.8478503     52.5259247     55.34787857    58.32144184    61.45475971\n",
      "    64.756415      68.23545163    71.90139941    75.76430013    79.83473509\n",
      "    84.12385406    88.64340582    93.40577038    98.42399285   103.71181918\n",
      "   109.28373384   115.15499946   121.34169867   127.86077812   134.73009494\n",
      "   141.96846562   149.59571756   157.63274341   166.10155825   175.02535994\n",
      "   184.42859263   194.33701374   204.77776451   215.77944432   227.37218908\n",
      "   239.58775374   252.45959928   266.02298437   280.31506195   295.37498101\n",
      "   311.24399381   327.9655689    345.58551014   364.15208225   383.71614294\n",
      "   404.33128226   426.05396938   448.94370727   473.0631957    498.47850299\n",
      "   525.25924697   553.4787857    583.21441837   614.5475971    647.56414999\n",
      "   682.3545163    719.01399408   757.64300131   798.3473509    841.23854056\n",
      "   886.43405822   934.05770383   984.2399285   1037.11819182  1092.8373384\n",
      "  1151.54999461  1213.41698668  1278.60778121  1347.30094939  1419.68465616\n",
      "  1495.95717561  1576.32743409  1661.0155825   1750.25359939  1844.2859263\n",
      "  1943.3701374   2047.77764505  2157.7944432   2273.72189083  2395.87753743\n",
      "  2524.59599281  2660.22984369  2803.15061951  2953.74981012  3112.43993814\n",
      "  3279.65568896  3455.85510143  3641.52082254  3837.16142944  4043.31282263\n",
      "  4260.53969378  4489.43707267  4730.631957    4984.78502992  5252.59246975\n",
      "  5534.78785698  5832.14418369  6145.47597095  6475.64149994  6823.54516298\n",
      "  7190.13994082  7576.43001311  7983.473509    8412.38540561  8864.34058217]\n",
      "0.0052332571182\n",
      "-1.498754923007446e-12\n"
     ]
    }
   ],
   "source": [
    "a = np.logspace(2,3.5,100)*u.R_sun.to(u.AU)\n",
    "m1 = 4.\n",
    "m2 = 1.4\n",
    "\n",
    "P = np.sqrt(4.*(np.pi**2.)*(a**3.)/(G*(m1+m2)))\n",
    "print (P)\n",
    "\n",
    "P = 0.1   # days\n",
    "a = (P*G*(m1+m2)/(4.*(np.pi**2.)))**(1./3.)\n",
    "Jorb = np.sqrt(G*a/(m1+m2))*m1*m2\n",
    "print (Jorb)\n",
    "\n",
    "Pdot_GW_div_P = (-96./5.)*((G**3.)/(c_AUday**5.))*(m1*m2*(m1+m2)/(a**4.))\n",
    "print (Pdot_GW_div_P)"
   ]
  },
  {
   "cell_type": "markdown",
   "metadata": {},
   "source": [
    "There is a file with the total number of systems"
   ]
  },
  {
   "cell_type": "code",
   "execution_count": 3,
   "metadata": {},
   "outputs": [],
   "source": [
    "loc_run = '/data002/ygoetberg/scripts/GW/10yr_notides_long/'\n",
    "\n",
    "filename = loc_run+'pop_full.txt'\n",
    "#filename = '/data002/ygoetberg/scripts/GW/standard_run/pop_full.txt'\n",
    "#filename = '/data002/ygoetberg/scripts/GW/4yr_run/pop_full.txt'\n",
    "data = np.loadtxt(filename,skiprows=1)\n",
    "N_WD = data[:,1]\n",
    "N_NS = data[:,2]\n",
    "N_BH = data[:,3]"
   ]
  },
  {
   "cell_type": "code",
   "execution_count": 4,
   "metadata": {},
   "outputs": [
    {
     "name": "stderr",
     "output_type": "stream",
     "text": [
      "/data002/ygoetberg/anaconda3/envs/venv/lib/python2.7/site-packages/matplotlib/axes/_axes.py:6571: UserWarning: The 'normed' kwarg is deprecated, and has been replaced by the 'density' kwarg.\n",
      "  warnings.warn(\"The 'normed' kwarg is deprecated, and has been \"\n",
      "/data002/ygoetberg/anaconda3/envs/venv/lib/python2.7/site-packages/scipy/stats/_distn_infrastructure.py:1662: RuntimeWarning: divide by zero encountered in true_divide\n",
      "  x = np.asarray((x - loc)/scale, dtype=dtyp)\n",
      "/data002/ygoetberg/anaconda3/envs/venv/lib/python2.7/site-packages/matplotlib/font_manager.py:1331: UserWarning: findfont: Font family [u'serif'] not found. Falling back to DejaVu Sans\n",
      "  (prop.get_family(), self.defaultFamily[fontext]))\n"
     ]
    },
    {
     "name": "stdout",
     "output_type": "stream",
     "text": [
      "87253.8 62.55525557457183\n",
      "5174.2 62.555255574571824\n",
      "0.0 0.0\n"
     ]
    },
    {
     "data": {
      "image/png": "[encoded data removed]",
      "text/plain": [
       "<Figure size 1080x360 with 3 Axes>"
      ]
     },
     "metadata": {
      "needs_background": "light"
     },
     "output_type": "display_data"
    }
   ],
   "source": [
    "ww = 15\n",
    "hh = 5\n",
    "fig, (ax1,ax2,ax3) = plt.subplots(1,3,figsize=(ww,hh))\n",
    "\n",
    "N = [N_WD, N_NS, N_BH]\n",
    "n = 0\n",
    "for ax in (ax1,ax2,ax3):\n",
    "    ax.hist(N[n],normed=True)\n",
    "    m, s = stats.norm.fit(N[n])\n",
    "    xt = ax.get_xticks()\n",
    "    xmin, xmax = min(xt), max(xt)  \n",
    "    lnspc = np.linspace(xmin, xmax, 100)\n",
    "    pdf_g = stats.norm.pdf(lnspc, m, s)\n",
    "    ax.plot(lnspc, pdf_g,'r-')\n",
    "    print m, s\n",
    "\n",
    "    n=n+1\n",
    "    \n"
   ]
  },
  {
   "cell_type": "markdown",
   "metadata": {},
   "source": [
    "### Get the data"
   ]
  },
  {
   "cell_type": "code",
   "execution_count": 5,
   "metadata": {},
   "outputs": [],
   "source": [
    "filename = loc_run+'pop_individuals.txt'\n",
    "data = np.genfromtxt(filename,dtype=str)\n",
    "s_nbr = data[:,0].astype(np.float)\n",
    "mstrip = data[:,1].astype(np.float)\n",
    "mco = data[:,2].astype(np.float)\n",
    "Porb = data[:,3].astype(np.float)\n",
    "dist = data[:,4].astype(np.float)\n",
    "h_c = data[:,5].astype(np.float)\n",
    "f_GW = data[:,6].astype(np.float)\n",
    "SNR = data[:,7].astype(np.float)\n",
    "MT = data[:,8]\n",
    "fdot = data[:,9].astype(np.float)"
   ]
  },
  {
   "cell_type": "code",
   "execution_count": 164,
   "metadata": {},
   "outputs": [
    {
     "data": {
      "text/plain": [
       "1.37"
      ]
     },
     "execution_count": 164,
     "metadata": {},
     "output_type": "execute_result"
    }
   ],
   "source": [
    "np.sum(SNR>7.)/100."
   ]
  },
  {
   "cell_type": "code",
   "execution_count": 22,
   "metadata": {},
   "outputs": [],
   "source": [
    "filename = loc_run+'pop_SNR4.txt'\n",
    "data = np.genfromtxt(filename,dtype=str)\n",
    "s_nbr=data[:,0].astype(np.float)\n",
    "mstrip = data[:,1].astype(np.float)\n",
    "mco = data[:,2].astype(np.float)\n",
    "dist = data[:,3].astype(np.float)\n",
    "h_c = data[:,4].astype(np.float)\n",
    "f_GW = data[:,5].astype(np.float)\n",
    "SNR = data[:,6].astype(np.float)\n",
    "MT = data[:,7]\n",
    "x = data[:,8].astype(np.float)\n",
    "y = data[:,9].astype(np.float)"
   ]
  },
  {
   "cell_type": "code",
   "execution_count": 62,
   "metadata": {},
   "outputs": [],
   "source": [
    "# Calculate the direction of the sources\n",
    "x_sun = 8.\n",
    "y_sun = 0.\n",
    "xtmp = x-x_sun\n",
    "ytmp = copy.copy(y)\n",
    "dtmp = np.sqrt(xtmp**2. + ytmp**2.)\n",
    "#theta = np.arctan(ytmp/xtmp)\n",
    "theta = np.arcsin(ytmp/dtmp)\n",
    "ind = (xtmp<0)*(ytmp>0)\n",
    "theta[ind]= theta[ind]+np.pi/2.\n",
    "ind = (xtmp<0)*(ytmp<0)\n",
    "theta[ind] = theta[ind]-np.pi/2.\n",
    "\n",
    "# This is the same angle, with 180 towards the Galactic center and in degrees\n",
    "Gal_l = 180.+theta*360./(2.*np.pi)\n",
    "Gal_l[Gal_l > 180.] = Gal_l[Gal_l > 180.]-360."
   ]
  },
  {
   "cell_type": "code",
   "execution_count": 61,
   "metadata": {},
   "outputs": [
    {
     "data": {
      "text/plain": [
       "array([ 64.41685936,  64.1344493 , 199.00013422, ..., 198.8076438 ,\n",
       "        44.34820773,  13.52132687])"
      ]
     },
     "execution_count": 61,
     "metadata": {},
     "output_type": "execute_result"
    }
   ],
   "source": []
  },
  {
   "cell_type": "markdown",
   "metadata": {},
   "source": [
    "### Properties"
   ]
  },
  {
   "cell_type": "code",
   "execution_count": 69,
   "metadata": {},
   "outputs": [
    {
     "data": {
      "image/png": "[encoded data removed]",
      "text/plain": [
       "<Figure size 648x648 with 4 Axes>"
      ]
     },
     "metadata": {
      "needs_background": "light"
     },
     "output_type": "display_data"
    }
   ],
   "source": [
    "clr_WD = np.array([49,143,181])/255.\n",
    "clr_NS = np.array([0,80,134])/255.\n",
    "\n",
    "ind_WD = (SNR > 4.)*(mco<=0.6)\n",
    "ind_NS = (SNR > 4.)*(mco==1.4)\n",
    "\n",
    "ww = 9\n",
    "hh = 9\n",
    "fig, ((ax1,ax2),(ax3,ax4)) = plt.subplots(2,2,figsize=(ww,hh))\n",
    "fig.tight_layout()\n",
    "\n",
    "# Mass distribution\n",
    "bins = np.linspace(0,8,17)\n",
    "ax1.hist(mstrip[ind_WD],facecolor=clr_WD,bins=bins,label='WD')\n",
    "ax1.hist(mstrip[ind_NS],facecolor=clr_NS,bins=bins,label='NS')\n",
    "\n",
    "ax1.set_yscale('log')\n",
    "#ax1.set_yticks([1,10,100,1000])\n",
    "#ax1.set_yticklabels(['$10^{-3}$','$10^{-2}$','$10^{-1}$','$10^{0}$'])\n",
    "ax1.set_ylim([1,3e3])\n",
    "ax1.set_xlabel('$M_{\\\\mathrm{strip}}$ [$M_{\\\\odot}$]')\n",
    "ax1.set_ylabel('Number')\n",
    "legend = ax1.legend(loc=0,fontsize=0.8*fsize,edgecolor='none')\n",
    "legend.set_title('Companion type',prop={'size':0.9*fsize})\n",
    "ax1.set_xlim([0,8])\n",
    "ax1.set_xticks([0,2,4,6,8])\n",
    "\n",
    "\n",
    "# Gravitational wave frequency\n",
    "bins = np.arange(0.05,0.6,0.05)\n",
    "ax2.hist(f_GW[ind_WD]*1e3,facecolor=clr_WD,bins=bins)\n",
    "ax2.hist(f_GW[ind_NS]*1e3,facecolor=clr_NS,edgecolor=clr_NS,histtype='stepfilled',bins=bins,lw=2)\n",
    "ax2.hist(f_GW[ind_WD]*1e3,facecolor='none',edgecolor=clr_WD,histtype='stepfilled',bins=bins,lw=2)\n",
    "\n",
    "ax2.set_xlabel('$f_{\\\\mathrm{GW}}$ [mHz]')\n",
    "ax2.set_yscale('log')\n",
    "ax2.set_xticks([0.1,0.2,0.3,0.4,0.5])\n",
    "ax2.set_ylim([1,3e3])\n",
    "\n",
    "\n",
    "# Distance\n",
    "bins=np.linspace(0,3,13)\n",
    "ax3.hist(np.log10(dist[ind_WD]),facecolor=clr_WD,bins=bins)\n",
    "ax3.hist(np.log10(dist[ind_NS]),facecolor=clr_NS,edgecolor=clr_NS,histtype='stepfilled',lw=2,bins=bins)\n",
    "ax3.hist(np.log10(dist[ind_WD]),facecolor='none',edgecolor=clr_WD,histtype='stepfilled',bins=bins,lw=2)\n",
    "\n",
    "ax3.set_yscale('log')\n",
    "ax3.set_ylim([1,3e3])\n",
    "ax3.set_xlim([0,3])\n",
    "ax3.set_xticks([0,1,2,3])\n",
    "ax3.set_xticklabels([1,10,100,1000])\n",
    "ax3.set_xlabel('Distance [pc]')\n",
    "ax3.set_ylabel('Number')\n",
    "\n",
    "\n",
    "# Location in the Galactic disk\n",
    "bins=np.linspace(-180,180,15)\n",
    "\n",
    "ax4.hist(Gal_l[ind_WD],facecolor=clr_WD,bins=bins)\n",
    "ax4.hist(Gal_l[ind_NS],facecolor=clr_NS,edgecolor=clr_NS,histtype='stepfilled',lw=2,bins=bins)\n",
    "ax4.hist(Gal_l[ind_WD],facecolor='none',edgecolor=clr_WD,histtype='stepfilled',bins=bins,lw=2)\n",
    "\n",
    "ax4.set_yscale('log')\n",
    "ax4.set_ylim([1,3e3])\n",
    "\n",
    "ax4.set_xlim([-180,180])\n",
    "ax4.set_xticks([-180,-90,0,90,180])\n",
    "ax4.set_xticklabels([180,270,0,90,180])\n",
    "ax4.set_xlabel('Galactic longitude [$^{\\\\circ}$]')\n",
    "\n",
    "ax4.text()\n",
    "\n",
    "for ax in (ax1,ax2,ax3,ax4):\n",
    "    ax.tick_params(direction=\"in\", which='both')\n",
    "    ax.tick_params('both', length=6, width=1,which='major')\n",
    "    ax.tick_params('both', length=3, width=1,which='minor')\n",
    "    ax.xaxis.set_ticks_position('both')\n",
    "    ax.yaxis.set_ticks_position('both')\n",
    "\n",
    "#fig.savefig('prop.png',format='png',dpi=300,bbox_inches='tight',pad_inches=0.1)"
   ]
  },
  {
   "cell_type": "code",
   "execution_count": null,
   "metadata": {},
   "outputs": [],
   "source": []
  },
  {
   "cell_type": "markdown",
   "metadata": {},
   "source": [
    "#### Mass distribution"
   ]
  },
  {
   "cell_type": "code",
   "execution_count": 166,
   "metadata": {},
   "outputs": [
    {
     "data": {
      "image/png": "[encoded data removed]",
      "text/plain": [
       "<Figure size 360x288 with 1 Axes>"
      ]
     },
     "metadata": {
      "needs_background": "light"
     },
     "output_type": "display_data"
    }
   ],
   "source": [
    "ww = 5\n",
    "hh = 4\n",
    "fig, ax = plt.subplots(1,1,figsize=(ww,hh))\n",
    "\n",
    "clr_WD = np.array([49,143,181])/255.\n",
    "clr_NS = np.array([0,80,134])/255.\n",
    "\n",
    "ind_WD = (SNR > 4.)*(mco<=0.6)\n",
    "ind_NS = (SNR > 4.)*(mco==1.4)\n",
    "bins = np.linspace(0,8,17)\n",
    "ax.hist(mstrip[ind_WD],facecolor=clr_WD,bins=bins,label='WD')\n",
    "ax.hist(mstrip[ind_NS],facecolor=clr_NS,bins=bins,label='NS')\n",
    "#ax.hist(mstrip)\n",
    "\n",
    "ax.set_yscale('log')\n",
    "#ax.set_yticklabels([])\n",
    "ax.set_xlabel('$M_{\\\\mathrm{strip}}$ [$M_{\\\\odot}$]')\n",
    "ax.set_ylabel('Number, SNR $>4$')\n",
    "legend = ax.legend(loc=0,fontsize=0.7*fsize,edgecolor='none')\n",
    "legend.set_title('Companion type',prop={'size':0.8*fsize})\n",
    "\n",
    "\n",
    "ax.tick_params(direction=\"in\", which='both')\n",
    "ax.tick_params('both', length=6, width=1,which='major')\n",
    "ax.tick_params('both', length=3, width=1,which='minor')\n",
    "ax.xaxis.set_ticks_position('both')\n",
    "ax.yaxis.set_ticks_position('both')\n",
    "\n",
    "ax.set_xlim([0,8])\n",
    "\n",
    "fig.savefig(loc_run+'M_distr.pdf',format='pdf',bbox_inches='tight',pad_inches=0.1)"
   ]
  },
  {
   "cell_type": "markdown",
   "metadata": {},
   "source": [
    "#### Distance"
   ]
  },
  {
   "cell_type": "code",
   "execution_count": null,
   "metadata": {},
   "outputs": [],
   "source": []
  },
  {
   "cell_type": "code",
   "execution_count": 9,
   "metadata": {},
   "outputs": [
    {
     "data": {
      "image/png": "[encoded data removed]",
      "text/plain": [
       "<Figure size 360x288 with 1 Axes>"
      ]
     },
     "metadata": {
      "needs_background": "light"
     },
     "output_type": "display_data"
    }
   ],
   "source": [
    "ww = 5\n",
    "hh = 4\n",
    "fig, ax = plt.subplots(1,1,figsize=(ww,hh))\n",
    "\n",
    "clr_WD = np.array([49,143,181])/255.\n",
    "clr_NS = np.array([0,80,134])/255.\n",
    "\n",
    "ind_MT = MT == 'True'\n",
    "\n",
    "ax.plot(np.sort(dist),np.arange(len(dist)))\n",
    "#ax.plot(np.sort(dist),np.linspace(0,1,len(dist)))\n",
    "#ax.plot(np.sort(dist[ind_NS]),np.linspace(0,1,len(dist[ind_NS])))\n",
    "ax.plot(np.sort(dist[ind_NS]),np.arange(len(dist[ind_NS])))\n",
    "ax.plot(np.sort(dist[ind_MT]),np.arange(len(dist[ind_MT])))\n",
    "\n",
    "ax.tick_params(direction=\"in\", which='both')\n",
    "ax.tick_params('both', length=6, width=1,which='major')\n",
    "ax.tick_params('both', length=3, width=1,which='minor')\n",
    "ax.xaxis.set_ticks_position('both')\n",
    "ax.yaxis.set_ticks_position('both')\n",
    "\n",
    "ax.set_xlim([0,1500])\n",
    "#ax.set_ylim([0,1])\n",
    "ax.set_xlabel('Distance [pc]')\n",
    "#ax.set_ylabel('')\n",
    "ax.set_yscale('log')"
   ]
  },
  {
   "cell_type": "code",
   "execution_count": 7,
   "metadata": {
    "scrolled": true
   },
   "outputs": [],
   "source": [
    "n = 1 \n",
    "nbr_sys = []\n",
    "nbr_sim = []\n",
    "for i in range(1,len(s_nbr)):\n",
    "    if s_nbr[i] == s_nbr[i-1]:\n",
    "        n = n+1\n",
    "    else:\n",
    "        nbr_sys.append(n)\n",
    "        nbr_sim.append(s_nbr[i-1])\n",
    "        n = 0\n",
    "        \n",
    "nbr_sys.append(n)\n",
    "nbr_sim.append(s_nbr[-1])"
   ]
  },
  {
   "cell_type": "code",
   "execution_count": null,
   "metadata": {},
   "outputs": [],
   "source": []
  },
  {
   "cell_type": "markdown",
   "metadata": {},
   "source": [
    "## Count number of systems"
   ]
  },
  {
   "cell_type": "code",
   "execution_count": 8,
   "metadata": {},
   "outputs": [],
   "source": [
    "nbr_runs = 100\n",
    "SNR_lim = 4.\n",
    "nbr_strip_BH = [None]*nbr_runs\n",
    "nbr_strip_NS = [None]*nbr_runs\n",
    "nbr_strip_WD = [None]*nbr_runs\n",
    "for i in range(1,nbr_runs+1):\n",
    "    ind = (s_nbr == i)*(SNR > SNR_lim)\n",
    "    nbr_strip_BH[i-1] = np.sum(mco[ind] == 5.)\n",
    "    nbr_strip_NS[i-1] = np.sum(mco[ind] == 1.4)\n",
    "    nbr_strip_WD[i-1] = np.sum(mco[ind] <= 0.6)"
   ]
  },
  {
   "cell_type": "code",
   "execution_count": 9,
   "metadata": {},
   "outputs": [
    {
     "data": {
      "text/plain": [
       "(87, 13)"
      ]
     },
     "execution_count": 9,
     "metadata": {},
     "output_type": "execute_result"
    }
   ],
   "source": [
    "np.sum(np.array(nbr_strip_NS) == 0), np.sum(np.array(nbr_strip_NS) > 0)"
   ]
  },
  {
   "cell_type": "code",
   "execution_count": 10,
   "metadata": {},
   "outputs": [
    {
     "data": {
      "text/plain": [
       "(array([0.88298079, 1.04423911, 0.78514739, 0.36511372, 0.87313029,\n",
       "        2.58936552]),\n",
       " array([0.6       , 0.6       , 0.6       , 0.36511372, 0.6       ,\n",
       "        1.4       ]),\n",
       " array(['False', 'False', 'True', 'True', 'False', 'False'], dtype='|S22'),\n",
       " array([ 5.08530987,  8.75662961,  5.58470098,  4.30943834, 10.83698028,\n",
       "         4.67909767]))"
      ]
     },
     "execution_count": 10,
     "metadata": {},
     "output_type": "execute_result"
    }
   ],
   "source": [
    "i = 66\n",
    "ind = (s_nbr==(i+1))*(SNR > 4.)\n",
    "mstrip[ind], mco[ind], MT[ind], SNR[ind]"
   ]
  },
  {
   "cell_type": "code",
   "execution_count": 11,
   "metadata": {},
   "outputs": [
    {
     "data": {
      "text/plain": [
       "0"
      ]
     },
     "execution_count": 11,
     "metadata": {},
     "output_type": "execute_result"
    }
   ],
   "source": [
    "nbr_strip_NS[81]"
   ]
  },
  {
   "cell_type": "code",
   "execution_count": 12,
   "metadata": {},
   "outputs": [],
   "source": [
    "# poisson function, parameter lamb is the fit parameter\n",
    "def poisson(k, lamb):\n",
    "    return (lamb**k/factorial(k)) * np.exp(-lamb)"
   ]
  },
  {
   "cell_type": "code",
   "execution_count": 13,
   "metadata": {
    "scrolled": true
   },
   "outputs": [
    {
     "name": "stdout",
     "output_type": "stream",
     "text": [
      "4.1 1.9416487838947598\n",
      "[0.16309189] [0.40384636]\n",
      "[4.18763225] [2.04637051]\n"
     ]
    },
    {
     "name": "stderr",
     "output_type": "stream",
     "text": [
      "/data002/ygoetberg/anaconda3/envs/venv/lib/python2.7/site-packages/ipykernel_launcher.py:3: RuntimeWarning: invalid value encountered in power\n",
      "  This is separate from the ipykernel package so we can avoid doing imports until\n",
      "/data002/ygoetberg/anaconda3/envs/venv/lib/python2.7/site-packages/ipykernel_launcher.py:3: RuntimeWarning: divide by zero encountered in divide\n",
      "  This is separate from the ipykernel package so we can avoid doing imports until\n"
     ]
    },
    {
     "data": {
      "image/png": "[encoded data removed]",
      "text/plain": [
       "<Figure size 1080x360 with 3 Axes>"
      ]
     },
     "metadata": {
      "needs_background": "light"
     },
     "output_type": "display_data"
    }
   ],
   "source": [
    "ww = 15\n",
    "hh = 5\n",
    "fig, (ax1,ax2,ax3) = plt.subplots(1,3,figsize=(ww,hh))\n",
    "\n",
    "#ax1.hist(nbr_strip_WD)\n",
    "#entries, bin_edges, patches = ax1.hist(nbr_strip_WD, bins=20, range=[14.5,55.5], normed=True)\n",
    "# calculate binmiddles\n",
    "#bin_middles = 0.5*(bin_edges[1:] + bin_edges[:-1])\n",
    "# fit with curve_fit\n",
    "#parameters, cov_matrix = curve_fit(poisson, bin_middles, entries)\n",
    "# plot poisson-deviation with fitted parameter\n",
    "#x_plot = np.linspace(14, 55, 100)\n",
    "#ax1.plot(x_plot, poisson(x_plot, *parameters), 'r-', lw=2)\n",
    "m, s = stats.norm.fit(nbr_strip_WD)\n",
    "print m, s\n",
    "ax1.hist(nbr_strip_WD,normed=True)\n",
    "\n",
    "xt = ax1.get_xticks()\n",
    "xmin, xmax = min(xt), max(xt)  \n",
    "lnspc = np.linspace(xmin, xmax, 100)\n",
    "pdf_g = stats.norm.pdf(lnspc, m, s)\n",
    "ax1.plot(lnspc, pdf_g,'r-')\n",
    "\n",
    "\n",
    "#ax2.hist(nbr_strip_NS)\n",
    "entries, bin_edges, patches = ax2.hist(nbr_strip_NS, bins=10, range=[-0.5, 10], normed=True)\n",
    "bin_middles = 0.5*(bin_edges[1:] + bin_edges[:-1])\n",
    "parameters, cov_matrix = curve_fit(poisson, bin_middles, entries)\n",
    "x_plot = np.linspace(-1, 10, 100)\n",
    "ax2.plot(x_plot, poisson(x_plot, *parameters), 'r-', lw=2)\n",
    "print parameters, np.sqrt(parameters)\n",
    "\n",
    "\n",
    "entries, bin_edges, patches = ax3.hist(np.array(nbr_strip_WD), bins=15, range=[-0.5, 15], normed=True)\n",
    "bin_middles = 0.5*(bin_edges[1:] + bin_edges[:-1])\n",
    "parameters, cov_matrix = curve_fit(poisson, bin_middles, entries)\n",
    "x_plot = np.linspace(-1, 15, 100)\n",
    "ax3.plot(x_plot, poisson(x_plot, *parameters), 'r-', lw=2)\n",
    "print parameters, np.sqrt(parameters)"
   ]
  },
  {
   "cell_type": "code",
   "execution_count": null,
   "metadata": {},
   "outputs": [],
   "source": []
  },
  {
   "cell_type": "code",
   "execution_count": 7,
   "metadata": {},
   "outputs": [
    {
     "data": {
      "text/plain": [
       "[<matplotlib.lines.Line2D at 0x7f51e6789c50>]"
      ]
     },
     "execution_count": 7,
     "metadata": {},
     "output_type": "execute_result"
    },
    {
     "data": {
      "image/png": "[encoded data removed]",
      "text/plain": [
       "<Figure size 432x288 with 1 Axes>"
      ]
     },
     "metadata": {
      "needs_background": "light"
     },
     "output_type": "display_data"
    }
   ],
   "source": [
    "\n",
    "import numpy as np  \n",
    "import matplotlib.pylab as plt\n",
    "\n",
    "# create some normal random noisy data\n",
    "ser = 50*np.random.rand() * np.random.normal(10, 10, 100) + 20\n",
    "\n",
    "# plot normed histogram\n",
    "plt.hist(ser, normed=True)\n",
    "\n",
    "# find minimum and maximum of xticks, so we know\n",
    "# where we should compute theoretical distribution\n",
    "xt = plt.xticks()[0]  \n",
    "xmin, xmax = min(xt), max(xt)  \n",
    "lnspc = np.linspace(xmin, xmax, len(ser))\n",
    "\n",
    "# lets try the normal distribution first\n",
    "m, s = stats.norm.fit(ser) # get mean and standard deviation  \n",
    "pdf_g = stats.norm.pdf(lnspc, m, s) # now get theoretical values in our interval  \n",
    "plt.plot(lnspc, pdf_g, label=\"Norm\") # plot it"
   ]
  },
  {
   "cell_type": "code",
   "execution_count": 8,
   "metadata": {},
   "outputs": [
    {
     "data": {
      "text/plain": [
       "(0, 3)"
      ]
     },
     "execution_count": 8,
     "metadata": {},
     "output_type": "execute_result"
    }
   ],
   "source": [
    "#np.min(nbr_strip_WD), np.max(nbr_strip_WD)\n",
    "np.min(nbr_strip_NS), np.max(nbr_strip_NS)\n",
    "#np.min(nbr_strip_BH), np.max(nbr_strip_BH)\n"
   ]
  },
  {
   "cell_type": "markdown",
   "metadata": {},
   "source": [
    "## Frequency range"
   ]
  },
  {
   "cell_type": "code",
   "execution_count": 14,
   "metadata": {},
   "outputs": [],
   "source": [
    "fmin_strip_BH = np.zeros(int(s_nbr[-1]))\n",
    "fmax_strip_BH = np.zeros(int(s_nbr[-1]))\n",
    "fmin_strip_NS = np.zeros(int(s_nbr[-1]))\n",
    "fmax_strip_NS = np.zeros(int(s_nbr[-1]))\n",
    "fmin_strip_WD = np.zeros(int(s_nbr[-1]))\n",
    "fmax_strip_WD = np.zeros(int(s_nbr[-1]))\n",
    "for i in range(int(s_nbr[-1])):\n",
    "    ind = (s_nbr == (i+1))*(SNR > 2.)*(mco==5.)\n",
    "    if np.sum(ind)>0:\n",
    "        fmin_strip_BH[i] = np.min(f_GW[ind])\n",
    "        fmax_strip_BH[i] = np.max(f_GW[ind])\n",
    "    ind = (s_nbr == (i+1))*(SNR > 2.)*(mco==1.4)\n",
    "    if np.sum(ind)>0:\n",
    "        fmin_strip_NS[i] = np.min(f_GW[ind])\n",
    "        fmax_strip_NS[i] = np.max(f_GW[ind])\n",
    "    ind = (s_nbr == (i+1))*(SNR > 2.)*(mco==0.6)\n",
    "    if np.sum(ind)>0:\n",
    "        fmin_strip_WD[i] = np.min(f_GW[ind])\n",
    "        fmax_strip_WD[i] = np.max(f_GW[ind])\n",
    "    "
   ]
  },
  {
   "cell_type": "code",
   "execution_count": 15,
   "metadata": {},
   "outputs": [
    {
     "data": {
      "text/plain": [
       "0.00040075696439770893"
      ]
     },
     "execution_count": 15,
     "metadata": {},
     "output_type": "execute_result"
    }
   ],
   "source": [
    "np.max(fmax_strip_WD[fmax_strip_WD>0])"
   ]
  },
  {
   "cell_type": "code",
   "execution_count": null,
   "metadata": {},
   "outputs": [],
   "source": []
  },
  {
   "cell_type": "code",
   "execution_count": 11,
   "metadata": {},
   "outputs": [
    {
     "name": "stdout",
     "output_type": "stream",
     "text": [
      "0.0002208425864697041\n",
      "0.0002000456288608138\n"
     ]
    }
   ],
   "source": [
    "print np.max(fmax_strip_NS[fmax_strip_NS>0])\n",
    "print np.max(fmax_strip_BH[fmax_strip_BH>0])"
   ]
  },
  {
   "cell_type": "markdown",
   "metadata": {},
   "source": [
    "## Distance to the sources"
   ]
  },
  {
   "cell_type": "code",
   "execution_count": 16,
   "metadata": {},
   "outputs": [
    {
     "data": {
      "image/png": "[encoded data removed]",
      "text/plain": [
       "<Figure size 432x288 with 1 Axes>"
      ]
     },
     "metadata": {
      "needs_background": "light"
     },
     "output_type": "display_data"
    },
    {
     "data": {
      "image/png": "[encoded data removed]",
      "text/plain": [
       "<Figure size 432x288 with 1 Axes>"
      ]
     },
     "metadata": {
      "needs_background": "light"
     },
     "output_type": "display_data"
    }
   ],
   "source": [
    "tmp = np.sort(dist[(mco<=0.6)*(SNR>2.)])\n",
    "plt.plot(tmp,np.arange(len(tmp)))\n",
    "plt.show()\n",
    "tmp = np.sort(dist[(mco==1.4)*(SNR>2.)])\n",
    "plt.plot(tmp,np.arange(len(tmp)))\n",
    "plt.show()"
   ]
  },
  {
   "cell_type": "markdown",
   "metadata": {},
   "source": [
    "## Mass transferring systems"
   ]
  },
  {
   "cell_type": "code",
   "execution_count": 63,
   "metadata": {},
   "outputs": [],
   "source": [
    "MT = MT == 'True'"
   ]
  },
  {
   "cell_type": "code",
   "execution_count": 64,
   "metadata": {},
   "outputs": [
    {
     "name": "stdout",
     "output_type": "stream",
     "text": [
      "0.8627156789197299\n",
      "0.1276595744680851\n",
      "nan\n",
      "0.1276595744680851\n"
     ]
    },
    {
     "name": "stderr",
     "output_type": "stream",
     "text": [
      "/home/ygoetberg/anaconda3/envs/venv/lib/python2.7/site-packages/ipykernel_launcher.py:9: RuntimeWarning: invalid value encountered in divide\n",
      "  if __name__ == '__main__':\n"
     ]
    }
   ],
   "source": [
    "SNR_lim = 2\n",
    "#np.sum(MT)/np.float_(len(MT))\n",
    "# Check how large fraction of the WDs with SNR > 2 that are mass transferring\n",
    "ind = (mco==0.6)*(SNR>SNR_lim)\n",
    "print np.sum(MT[ind])/np.float_(np.sum(ind))\n",
    "ind = (mco==1.4)*(SNR>SNR_lim)\n",
    "print np.sum(MT[ind])/np.float_(np.sum(ind))\n",
    "ind = (mco==5)*(SNR>SNR_lim)\n",
    "print np.sum(MT[ind])/np.float_(np.sum(ind))\n",
    "ind = (mco>0.6)*(SNR>SNR_lim)\n",
    "print np.sum(MT[ind])/np.float_(np.sum(ind))\n"
   ]
  },
  {
   "cell_type": "markdown",
   "metadata": {},
   "source": [
    "## Orbital period"
   ]
  },
  {
   "cell_type": "code",
   "execution_count": null,
   "metadata": {},
   "outputs": [],
   "source": []
  },
  {
   "cell_type": "markdown",
   "metadata": {},
   "source": [
    "## X-ray emission"
   ]
  },
  {
   "cell_type": "markdown",
   "metadata": {},
   "source": [
    "For systems that are not currently transferring mass, I follow what Katie suggested. "
   ]
  },
  {
   "cell_type": "code",
   "execution_count": 151,
   "metadata": {},
   "outputs": [],
   "source": [
    "# THE BELOW IS COPIED FROM KATIE BREIVIK -- BIG THANKS!\n",
    "\n",
    "G_SI = 6.67384e-11\n",
    "c_SI = 2.99792458e8\n",
    "rsun_in_au = 215.0954\n",
    "Msun_SI = 1.9891e30\n",
    "Rsun_SI = 6.955e8\n",
    "sec_in_year = 3.15569e7\n",
    "\n",
    "\n",
    "def calculate_Mdot_edd(M_BH):\n",
    "    \"\"\"\n",
    "    Note: this assumes kappa=0.4 cm^2/g\n",
    "    \n",
    "    Args:\n",
    "        M_BH = bh mass in solar masses\n",
    "        \n",
    "    Returns:\n",
    "        Mdot_edd in Msun/yr\n",
    "    \"\"\"\n",
    "    #mp_by_sigmat = 25.1578947368\n",
    "    #L_edd = 4*np.pi*G*M_BH*Msun*c*mp_by_sigmat\n",
    "    \n",
    "    X = 0.2   # hydrogen mass fraction in the wind\n",
    "    kappa_he = 0.02*(1+X)    # m^2/kg\n",
    "    L_edd = 4.*np.pi*c_SI*G_SI*M_BH*Msun_SI/kappa_he\n",
    "    \n",
    "    Mdot_edd = L_edd/c_SI**2\n",
    "    return Mdot_edd/Msun_SI*sec_in_year\n",
    "    \n",
    "\n",
    "# This is epsilon\n",
    "def calculate_ADAF_efficiency(Mdot, Mdot_edd, delta=0.01):\n",
    "    \"\"\"\n",
    "    Calculate the mass-luminosity efficiency based on the ADAF\n",
    "    model of Xie & Yuan (2012), using the piecewise fitting function\n",
    "    using values provided their Table 1 for their Equation 11.\n",
    "\n",
    "    Args:\n",
    "        Mdot : mass transfer rate onto a BH [msun/year]\n",
    "        Mdot_edd : Eddington mass transfer rate (same units as Mdot)\n",
    "        delta : (optional) fraction of ionization energy acting on electrons\n",
    "\n",
    "    Returns:\n",
    "        epsilon : mass-light conversion efficiency\n",
    "    \"\"\"\n",
    "\n",
    "\n",
    "    M_ratio = Mdot/Mdot_edd\n",
    "\n",
    "    if not delta in [0.5, 0.1, 0.01, 0.001]:\n",
    "        print(\"You must provide an acceptable value for delta.\")\n",
    "        sys.exit(-1)\n",
    "\n",
    "    if delta == 0.5:\n",
    "        conds = [M_ratio < 2.9e-5,\n",
    "                 (M_ratio >= 2.9e-5) & (M_ratio < 3.3e-3),\n",
    "                 (M_ratio >= 3.3e-3) & (M_ratio < 5.3e-3),\n",
    "                 M_ratio >= 5.3e-3]\n",
    "        func_epsilon = [lambda M_ratio: 1.58*(100*M_ratio)**0.65,\n",
    "                        lambda M_ratio: 0.055*(100*M_ratio)**0.076,\n",
    "                        lambda M_ratio: 0.17*(100*M_ratio)**1.12,\n",
    "                        lambda M_ratio: 0.1]\n",
    "\n",
    "    if delta == 0.1:\n",
    "        conds = [M_ratio < 9.4e-5,\n",
    "                 (M_ratio >= 9.4e-5) & (M_ratio < 5.0e-3),\n",
    "                 (M_ratio >= 5.0e-3) & (M_ratio < 6.6e-3),\n",
    "                 M_ratio >= 6.6e-3]\n",
    "        func_epsilon = [lambda M_ratio: 0.12*(100*M_ratio)**0.59,\n",
    "                        lambda M_ratio: 0.026*(100*M_ratio)**0.27,\n",
    "                        lambda M_ratio: 0.50*(100*M_ratio)**4.53,\n",
    "                        lambda M_ratio: 0.1]\n",
    "\n",
    "    if delta == 1.0e-2:\n",
    "        conds = [M_ratio < 1.6e-5,\n",
    "                 (M_ratio >= 1.6e-5) & (M_ratio < 5.3e-3),\n",
    "                 (M_ratio >= 5.3e-3) & (M_ratio < 7.1e-3),\n",
    "                 M_ratio >= 7.1e-3]\n",
    "        func_epsilon = [lambda M_ratio: 0.069*(100*M_ratio)**0.69,\n",
    "                        lambda M_ratio: 0.027*(100*M_ratio)**0.54,\n",
    "                        lambda M_ratio: 0.42*(100*M_ratio)**4.85,\n",
    "                        lambda M_ratio: 0.1]\n",
    "\n",
    "    if delta == 1.0e-3:\n",
    "        conds = [M_ratio < 7.6e-5,\n",
    "                 (M_ratio >= 7.6e-5) & (M_ratio < 4.5e-3),\n",
    "                 (M_ratio >= 4.5e-3) & (M_ratio < 7.1e-3),\n",
    "                 M_ratio >= 7.1e-3]\n",
    "        func_epsilon = [lambda M_ratio: 0.065*(100*M_ratio)**0.71,\n",
    "                        lambda M_ratio: 0.020*(100*M_ratio)**0.47,\n",
    "                        lambda M_ratio: 0.26*(100*M_ratio)**3.67,\n",
    "                        lambda M_ratio: 0.1]\n",
    "    return np.piecewise(M_ratio, conds, func_epsilon)\n",
    "\n",
    "\n",
    "def M_acc_fac(m_co, m_donor, r_donor, a, wind_profile, alpha=1.5):\n",
    "    # Msun, Rsun units\n",
    "    v_esc = (2*G*(m_donor)*Msun_SI/(r_donor*Rsun_SI))**0.5 \n",
    "    v_infty = 1.5*v_esc\n",
    "    if wind_profile:\n",
    "        beta = 1.\n",
    "        v_wind = v_infty*((1.-r_donor/a)**beta)\n",
    "    else:\n",
    "        v_wind = copy.copy(v_infty)\n",
    "    \n",
    "    v_orb = (G_SI*(m_co+m_donor)*Msun_SI/(a*Rsun_SI))**0.5\n",
    "    \n",
    "    v_rel_squared = (v_wind**2+v_orb**2)\n",
    "    v_rel = v_rel_squared**0.5\n",
    "    \n",
    "    M_acc_fac = alpha*(G*m_co*Msun_SI)**2/(2*v_rel**3*v_wind*(a*Rsun_SI)**2)\n",
    "    \n",
    "    return M_acc_fac\n",
    "\n",
    "def L_X_ray(m_co, m_donor, r_donor, a, m_dot, r_acc, MT, wind_profile, epsilon=1.0, alpha=1.5):\n",
    "    \n",
    "    # m_co, m_donor [msun], a [rsun], m_dot [msun/yr]\n",
    "    # Same as BSE\n",
    "    \n",
    "    # Eq. 36\n",
    "    M_acc_factor = M_acc_fac(m_co, m_donor, r_donor, a, wind_profile, alpha=1.5)\n",
    "    #\n",
    "    M_dot_acc = m_dot*Msun_SI/sec_in_year*M_acc_factor\n",
    "    # Eq. 83\n",
    "    \n",
    "    #ind = MT==True\n",
    "    M_dot_acc[MT] = m_dot[MT]*Msun_SI/sec_in_year\n",
    "    \n",
    "    L_x = epsilon*G_SI*m_co*Msun_SI*M_dot_acc/(r_acc)\n",
    "    #\n",
    "    L_x_erg = L_x*1e7\n",
    "    L_x_sun = L_x/3.8270e33\n",
    "    return L_x_erg, L_x_sun\n"
   ]
  },
  {
   "cell_type": "code",
   "execution_count": null,
   "metadata": {},
   "outputs": [],
   "source": []
  },
  {
   "cell_type": "code",
   "execution_count": 106,
   "metadata": {},
   "outputs": [
    {
     "data": {
      "text/plain": [
       "Text(0,0.5,'Separation [Rsun]')"
      ]
     },
     "execution_count": 106,
     "metadata": {},
     "output_type": "execute_result"
    },
    {
     "data": {
      "image/png": "[encoded data removed]",
      "text/plain": [
       "<Figure size 432x288 with 1 Axes>"
      ]
     },
     "metadata": {
      "needs_background": "light"
     },
     "output_type": "display_data"
    }
   ],
   "source": [
    "# I need first to calculate the separation between the two stars in the systems\n",
    "#  Porb [days], G [AU, MSun, days], mco & mstrip [Msun]\n",
    "a = ((Porb**2)*G*(mco+mstrip)/(4.*(np.pi**2.)))**(1./3.)   # AU\n",
    "a = a*u.AU.to(u.R_sun)   # Rsun\n",
    "\n",
    "plt.semilogy(mstrip,a,'.')\n",
    "plt.xlabel('Mstrip [Msun]')\n",
    "plt.ylabel('Separation [Rsun]')"
   ]
  },
  {
   "cell_type": "code",
   "execution_count": 107,
   "metadata": {},
   "outputs": [
    {
     "name": "stdout",
     "output_type": "stream",
     "text": [
      "I have divided the Mdotwind by 10 to be more realistic.\n"
     ]
    },
    {
     "data": {
      "text/plain": [
       "[<matplotlib.lines.Line2D at 0x7f1eefdc9850>]"
      ]
     },
     "execution_count": 107,
     "metadata": {},
     "output_type": "execute_result"
    },
    {
     "data": {
      "image/png": "[encoded data removed]",
      "text/plain": [
       "<Figure size 432x288 with 1 Axes>"
      ]
     },
     "metadata": {
      "needs_background": "light"
     },
     "output_type": "display_data"
    }
   ],
   "source": [
    "# Then I need an estimate for the wind mass loss rates\n",
    "\n",
    "# This is what was assumed in the grid in Gotberg+18\n",
    "mstrip_grid = np.array([0.35,0.38,0.44,0.51,0.58,0.66,0.74,0.85,0.97,1.11,1.27,1.43,1.64,1.88,2.17,2.49,2.87,3.32,3.85,4.45,5.12,5.88,6.72])    # MSun\n",
    "mdot_grid = 10**np.array([-12.,-12.,-12.,-12.,-12.,-12.,-12.,-11.2,-10.6,-10.,-9.5,-8.4,-8.1,-7.8,-7.5,-7.3,-7.1,-6.8,-6.6,-6.4,-6.2,-6.,-5.8])\n",
    "# But the mass loss rates are probably about a factor of 10 too high, so I update!\n",
    "mdot_grid = mdot_grid/10.\n",
    "print 'I have divided the Mdotwind by 10 to be more realistic.'\n",
    "\n",
    "plt.plot(np.log10(mstrip_grid),np.log10(mdot_grid),'.',ms=15)\n",
    "\n",
    "# I think it is best to interpolate in log-log space\n",
    "mdot_wind = 10**np.interp(np.log10(mstrip), np.log10(mstrip_grid),np.log10(mdot_grid))\n",
    "plt.plot(np.log10(mstrip),np.log10(mdot_wind),'.')"
   ]
  },
  {
   "cell_type": "code",
   "execution_count": 108,
   "metadata": {},
   "outputs": [],
   "source": [
    "# Now, I need to know at what distance the accretion should occur\n",
    "r_acc = np.zeros(len(mco))\n",
    "# The black holes are assumed to accrete at 3 Schwarzschild radius distance\n",
    "G_SI = const.G.value\n",
    "c_SI = const.c.value\n",
    "r_schwarz = 2.*G_SI*mco[mco==5.]*u.M_sun.to(u.kg)/(c_SI**2.)   # m\n",
    "r_acc[mco == 5.] = 3.*r_schwarz\n",
    "# The neutron stars are assumed to have a radius of 10 km and accrete directly on the surface\n",
    "r_acc[mco == 1.4] = 1e4  # m\n",
    "# The white dwarfs are assumed to have a radius of 0.005 Rsun\n",
    "r_acc[mco <= 0.6] = 0.005*u.R_sun.to(u.m)   # m"
   ]
  },
  {
   "cell_type": "code",
   "execution_count": 109,
   "metadata": {},
   "outputs": [
    {
     "data": {
      "text/plain": [
       "[<matplotlib.lines.Line2D at 0x7f1eefd6a590>]"
      ]
     },
     "execution_count": 109,
     "metadata": {},
     "output_type": "execute_result"
    },
    {
     "data": {
      "image/png": "[encoded data removed]",
      "text/plain": [
       "<Figure size 432x288 with 1 Axes>"
      ]
     },
     "metadata": {
      "needs_background": "light"
     },
     "output_type": "display_data"
    }
   ],
   "source": [
    "# I need also the radius of the stripped star\n",
    "rstrip_grid = np.array([0.16,0.17,0.19,0.21,0.23,0.25,0.26,0.29,0.32,0.36,0.40,0.42,0.46,0.50,0.55,0.59,0.65,0.70,0.76,0.80,0.84,0.87,0.88]) # Rsun\n",
    "\n",
    "plt.loglog(mstrip_grid,rstrip_grid,'.')\n",
    "\n",
    "rstrip = 10**np.interp(np.log10(mstrip),np.log10(mstrip_grid),np.log10(rstrip_grid))\n",
    "plt.loglog(mstrip,rstrip,'.')"
   ]
  },
  {
   "cell_type": "code",
   "execution_count": 134,
   "metadata": {},
   "outputs": [],
   "source": [
    "# Some paramters for the functions\n",
    "alpha=1.5    # From hydrodynamic simulations of Bondi-Hoyle, between 1 and 2, but weigthed by the 2 in the formula\n",
    "delta=0.5    # For ADAF - only use if significantly below Eddington (we set < 10% Mdot_Edd)\n",
    "\n",
    "# I implemented the wind_profile switch - it is assuming a standard beta-law for the wind profile, with beta=1\n",
    "wind_profile = True   "
   ]
  },
  {
   "cell_type": "code",
   "execution_count": 135,
   "metadata": {},
   "outputs": [
    {
     "name": "stdout",
     "output_type": "stream",
     "text": [
      "[0.025765   0.02527551 0.0254649  ... 0.02463871 0.01726576 0.02571597]\n",
      "0.00033863962189897726 0.01454623565857059\n"
     ]
    },
    {
     "data": {
      "text/plain": [
       "'\\n# This is what I calculate following the accretion physics book\\nvwind = 1.5* ((2.*G_SI*mstrip*Msun_SI/(rstrip*Rsun_SI))**0.5)  # Going to use 1.5 vesc\\nv_NS = (G_SI*(mco+mstrip)*Msun_SI/(a*Rsun_SI))**0.5\\nvrel = ((v_NS**2.) + (vwind**2.))**0.5\\nM_acc_factor_book = ((G_SI*mco*Msun_SI/(a*Rsun_SI))**2.)/((vrel**3.)*vwind)\\nprint np.min(M_acc_factor_book[mco == 1.4]), np.max(M_acc_factor_book[mco == 1.4])\\nplt.hist(np.log10(M_acc_factor_book[mco==1.4]))\\n'"
      ]
     },
     "execution_count": 135,
     "metadata": {},
     "output_type": "execute_result"
    },
    {
     "data": {
      "image/png": "[encoded data removed]",
      "text/plain": [
       "<Figure size 432x288 with 1 Axes>"
      ]
     },
     "metadata": {
      "needs_background": "light"
     },
     "output_type": "display_data"
    }
   ],
   "source": [
    "# I am now going to use a function to get the M_acc_factor\n",
    "M_acc_factor = M_acc_fac(mco,mstrip,rstrip,a,wind_profile,alpha)\n",
    "print M_acc_factor\n",
    "\n",
    "plt.hist(np.log10(M_acc_factor))\n",
    "plt.hist(np.log10(M_acc_factor[mco == 1.4]))\n",
    "plt.yscale('log')\n",
    "plt.xlabel('log Maccfactor')\n",
    "print np.min(M_acc_factor[mco == 1.4]), np.max(M_acc_factor[mco == 1.4])\n",
    "\n",
    "\"\"\"\n",
    "# This is what I calculate following the accretion physics book\n",
    "vwind = 1.5* ((2.*G_SI*mstrip*Msun_SI/(rstrip*Rsun_SI))**0.5)  # Going to use 1.5 vesc\n",
    "v_NS = (G_SI*(mco+mstrip)*Msun_SI/(a*Rsun_SI))**0.5\n",
    "vrel = ((v_NS**2.) + (vwind**2.))**0.5\n",
    "M_acc_factor_book = ((G_SI*mco*Msun_SI/(a*Rsun_SI))**2.)/((vrel**3.)*vwind)\n",
    "print np.min(M_acc_factor_book[mco == 1.4]), np.max(M_acc_factor_book[mco == 1.4])\n",
    "plt.hist(np.log10(M_acc_factor_book[mco==1.4]))\n",
    "\"\"\""
   ]
  },
  {
   "cell_type": "code",
   "execution_count": 152,
   "metadata": {},
   "outputs": [],
   "source": [
    "# From that, we can get the mass accretion rate\n",
    "M_dot_acc = mdot_wind*M_acc_factor\n",
    "\n",
    "# But, we want to account for systems that are mass transferring\n",
    "# I will assume that these funnel all wind mass loss to the compact object\n",
    "M_dot_acc[MT=='True'] = mdot_wind[MT=='True']\n",
    "\n",
    "# Need to calculate Eddington accretion rate \n",
    "M_dot_Edd = calculate_Mdot_edd(mco)\n",
    "ind_Edd = M_dot_acc > 0.1*M_dot_Edd\n",
    "ind_ADAF = M_dot_acc <= 0.1*M_dot_Edd\n",
    "\n",
    "epsilon = calculate_ADAF_efficiency(M_dot_acc, calculate_Mdot_edd(mco), delta)\n",
    "epsilon[ind_Edd] = 1.   # Fragos+08 for NS surface accretion epsilon = 1.\n",
    "\n",
    "# Calculate the X-ray luminosity\n",
    "LX = L_X_ray(mco, mstrip, rstrip, a, mdot_wind, r_acc, MT=='True', wind_profile, epsilon, alpha)"
   ]
  },
  {
   "cell_type": "code",
   "execution_count": 153,
   "metadata": {},
   "outputs": [
    {
     "data": {
      "text/plain": [
       "[<matplotlib.lines.Line2D at 0x7f1eef4c23d0>]"
      ]
     },
     "execution_count": 153,
     "metadata": {},
     "output_type": "execute_result"
    },
    {
     "data": {
      "image/png": "[encoded data removed]",
      "text/plain": [
       "<Figure size 432x288 with 1 Axes>"
      ]
     },
     "metadata": {
      "needs_background": "light"
     },
     "output_type": "display_data"
    }
   ],
   "source": [
    "plt.plot(mstrip,np.log10(M_dot_acc),'.')"
   ]
  },
  {
   "cell_type": "code",
   "execution_count": 157,
   "metadata": {},
   "outputs": [
    {
     "name": "stdout",
     "output_type": "stream",
     "text": [
      "24.45922380495219 34.86751297557636\n",
      "-18.321201915446704 -8.144096519721678\n",
      "\n",
      "34.404754042308156 39.2687227274345\n",
      "-9.26146347261509 -4.823738407744351\n",
      "\n"
     ]
    },
    {
     "data": {
      "text/plain": [
       "Text(0,0.5,'$\\\\log_{10} L_X$ [erg/s]')"
      ]
     },
     "execution_count": 157,
     "metadata": {},
     "output_type": "execute_result"
    },
    {
     "data": {
      "image/png": "[encoded data removed]",
      "text/plain": [
       "<Figure size 432x360 with 1 Axes>"
      ]
     },
     "metadata": {
      "needs_background": "light"
     },
     "output_type": "display_data"
    }
   ],
   "source": [
    "# Here is the X-ray luminosities\n",
    "LXray_cgs = LX[0]   # erg/s \n",
    "\n",
    "d = dist*u.pc.to(u.cm)\n",
    "FXray_cgs = LXray_cgs/(4.*np.pi*(d**2.))\n",
    "\n",
    "ind_WD = (mco <= 0.6)\n",
    "print np.log10(np.min(LXray_cgs[ind_WD])), np.log10(np.max(LXray_cgs[ind_WD]))\n",
    "print np.log10(np.min(FXray_cgs[ind_WD])), np.log10(np.max(FXray_cgs[ind_WD]))\n",
    "print ''\n",
    "ind_NS = (mco == 1.4)\n",
    "print np.log10(np.min(LXray_cgs[ind_NS])), np.log10(np.max(LXray_cgs[ind_NS]))\n",
    "print np.log10(np.min(FXray_cgs[ind_NS])), np.log10(np.max(FXray_cgs[ind_NS]))\n",
    "print ''\n",
    "\n",
    "\n",
    "hh = 5\n",
    "ww = 6\n",
    "fig, ax = plt.subplots(1,1, figsize=(ww,hh))\n",
    "\n",
    "clr_WD = np.array([49,143,181])/255.\n",
    "clr_NS = np.array([0,80,134])/255.\n",
    "\n",
    "ax.plot(mstrip[ind_WD],np.log10(LXray_cgs[ind_WD]),'.',color=clr_WD,label='WD')\n",
    "ax.plot(mstrip[ind_WD*(MT=='True')],np.log10(LXray_cgs[ind_WD*(MT=='True')]),'o',\n",
    "        markerfacecolor='none',markeredgecolor=0.5*clr_WD)\n",
    "\n",
    "ax.plot(mstrip[ind_NS],np.log10(LXray_cgs[ind_NS]),'.',color=clr_NS,label='NS')\n",
    "ax.plot(mstrip[ind_NS*(MT=='True')],np.log10(LXray_cgs[ind_NS*(MT=='True')]),'o',\n",
    "        markerfacecolor='none',markeredgecolor=0.5*clr_NS)\n",
    "#ax.plot(mstrip[ind_NS*ind_Edd],np.log10(LXray_cgs[ind_NS*ind_Edd]),'o',\n",
    "#        markerfacecolor='none',markeredgecolor='r')\n",
    "\n",
    "\n",
    "plt.ylim([30,40])\n",
    "\n",
    "ax.legend(loc=0,fontsize=0.7*fsize)\n",
    "ax.set_xlabel('$M_{\\\\mathrm{strip}}$ [$M_{\\\\odot}$]')\n",
    "ax.set_ylabel('$\\\\log_{10} L_X$ [erg/s]')"
   ]
  },
  {
   "cell_type": "code",
   "execution_count": 146,
   "metadata": {},
   "outputs": [
    {
     "data": {
      "text/plain": [
       "(array([ 26.,  73., 101.,   0.,  20.,  11.,   1.,   4.,   1.,   3.]),\n",
       " array([34.40475404, 34.89115091, 35.37754778, 35.86394465, 36.35034152,\n",
       "        36.83673838, 37.32313525, 37.80953212, 38.29592899, 38.78232586,\n",
       "        39.26872273]),\n",
       " <a list of 10 Patch objects>)"
      ]
     },
     "execution_count": 146,
     "metadata": {},
     "output_type": "execute_result"
    },
    {
     "data": {
      "image/png": "[encoded data removed]",
      "text/plain": [
       "<Figure size 432x288 with 1 Axes>"
      ]
     },
     "metadata": {
      "needs_background": "light"
     },
     "output_type": "display_data"
    }
   ],
   "source": [
    "ind = (mco <= 0.6)\n",
    "ind = (mco > 0.6)\n",
    "plt.hist(np.log10(LXray_cgs[ind]))"
   ]
  },
  {
   "cell_type": "markdown",
   "metadata": {},
   "source": [
    "What to do about all those white dwarf systems that are undergoing mass transfer? \n",
    "\n",
    "I will follow Nelemans+04"
   ]
  },
  {
   "cell_type": "code",
   "execution_count": 105,
   "metadata": {},
   "outputs": [
    {
     "name": "stdout",
     "output_type": "stream",
     "text": [
      "[4.72866297 4.72875533 4.72840071 ... 4.72883018 4.72839938 4.72839898]\n"
     ]
    }
   ],
   "source": [
    "# I will start by assuming that the mass transfer rate is very low, like 1e-9 Msun/yr\n",
    "Mdot_acc = copy.copy(mdot_wind) #1e-9   \n",
    "Mdot_acc_cgs = Mdot_acc*u.M_sun.to(u.g)/(u.year.to(u.s))\n",
    "\n",
    "# Calculte the accretion luminosity\n",
    "M_CO_cgs = mco*u.M_sun.to(u.g)\n",
    "R_CO_cgs = r_acc*u.m.to(u.cm)\n",
    "R_CO_Rsun = R_CO_cgs*u.cm.to(u.R_sun)\n",
    "q = mco/mstrip\n",
    "rL = 0.49*(q**(2./3.))/(0.69*(q**(2./3.)) + np.log(1.+(q**(1./3.))))\n",
    "#Porb = .1    # day\n",
    "a = ((Porb**2.)*(G*(mstrip+mco)/(4.*(np.pi**2.))))**(1./3.)   # AU\n",
    "RL_CO = (rL*a)*u.AU.to(u.R_sun)\n",
    "RL_CO_cgs = RL_CO*u.R_sun.to(u.cm)\n",
    "\n",
    "Lacc_cgs = 0.5*G_cgs*M_CO_cgs*Mdot_acc_cgs*((1./R_CO_cgs) - (1./RL_CO_cgs))   # erg/s\n",
    "Lacc_Lsun = Lacc_cgs*(u.erg/u.s).to(u.L_sun)\n",
    "\n",
    "# Calculate the temperature of the assumed blackbody\n",
    "Tsun = 5778.  # K\n",
    "f = 0.001\n",
    "Tacc = Tsun*(((1./f)*(R_CO_Rsun**(-2.))*Lacc_Lsun)**(1./4.))\n",
    "print np.log10(Tacc)"
   ]
  },
  {
   "cell_type": "code",
   "execution_count": null,
   "metadata": {},
   "outputs": [],
   "source": []
  },
  {
   "cell_type": "code",
   "execution_count": 108,
   "metadata": {},
   "outputs": [
    {
     "name": "stdout",
     "output_type": "stream",
     "text": [
      "0\n",
      "10000\n",
      "20000\n",
      "30000\n",
      "40000\n",
      "50000\n",
      "60000\n",
      "70000\n",
      "80000\n",
      "90000\n",
      "100000\n",
      "110000\n",
      "120000\n",
      "130000\n",
      "140000\n"
     ]
    }
   ],
   "source": [
    "E_eV = np.logspace(0,6,1000)   # in eV\n",
    "E_SI = E_eV*u.eV.to(u.J)       # in J\n",
    "lambda_SI = h_SI*c_SI/E_SI     # in m\n",
    "\n",
    "# Get the luminosity between 0.1 and 2.4 keV\n",
    "Elim_low = 0.1*1e3   # eV\n",
    "Elim_high = 2.4*1e3  # eV\n",
    "ind_X = (E_eV > Elim_low)*(E_eV < Elim_high)\n",
    "\n",
    "LX_cgs_MT = np.zeros(len(Tacc))\n",
    "\n",
    "for i in range(len(Tacc)):\n",
    "    # Get the blackbody intensity\n",
    "    Blambda_X = (2.*h_SI*c_SI/(lambda_SI**5.))/(np.exp(h_SI*c_SI/(lambda_SI*kB_SI*Tacc[i])) - 1.)   # SI units\n",
    "\n",
    "    d = dist[i]*u.pc.to(u.R_sun) #1e3*u.pc.to(u.R_sun)\n",
    "    Flambda_X = np.pi*Blambda_X*((R_CO_Rsun[i]/d)**2.)   # J s^-1 m^-2 m^-1\n",
    "    Llambda_X = 4.*np.pi*((d*u.R_sun.to(u.m))**2.)*Flambda_X   # J s^-1 m^-1\n",
    "\n",
    "    \n",
    "    Ltot = np.trapz(Llambda_X[ind_X][::-1],lambda_SI[ind_X][::-1])\n",
    "    LX_cgs_MT[i] = Ltot*u.J.to(u.erg)\n",
    "    #print 'X-ray luminosity:', Ltot*u.J.to(u.erg), 'erg/s'\n",
    "    \n",
    "    if np.mod(i,10000) == 0:\n",
    "        print i"
   ]
  },
  {
   "cell_type": "code",
   "execution_count": 109,
   "metadata": {},
   "outputs": [
    {
     "data": {
      "text/plain": [
       "(array([1.17389e+05, 5.60000e+01, 2.30000e+01, 1.30000e+01, 1.00000e+01,\n",
       "        7.00000e+00, 5.00000e+00, 8.00000e+00, 6.00000e+00, 4.00000e+00]),\n",
       " array([1.25471279e+18, 1.14850646e+28, 2.29701292e+28, 3.44551939e+28,\n",
       "        4.59402585e+28, 5.74253231e+28, 6.89103877e+28, 8.03954523e+28,\n",
       "        9.18805170e+28, 1.03365582e+29, 1.14850646e+29]),\n",
       " <a list of 10 Patch objects>)"
      ]
     },
     "execution_count": 109,
     "metadata": {},
     "output_type": "execute_result"
    },
    {
     "data": {
      "image/png": "[encoded data removed]",
      "text/plain": [
       "<Figure size 432x288 with 1 Axes>"
      ]
     },
     "metadata": {
      "needs_background": "light"
     },
     "output_type": "display_data"
    }
   ],
   "source": [
    "ind = (mco == 0.6)*(MT == 'True')\n",
    "plt.hist(LX_cgs_MT[ind])"
   ]
  },
  {
   "cell_type": "code",
   "execution_count": 110,
   "metadata": {},
   "outputs": [
    {
     "data": {
      "text/plain": [
       "(array([140.,   0.,   0.,   0.,   0.,   0.,   0.,  76., 166., 586.]),\n",
       " array([1.82356389e+29, 5.42974175e+29, 9.03591960e+29, 1.26420975e+30,\n",
       "        1.62482753e+30, 1.98544532e+30, 2.34606310e+30, 2.70668089e+30,\n",
       "        3.06729867e+30, 3.42791646e+30, 3.78853424e+30]),\n",
       " <a list of 10 Patch objects>)"
      ]
     },
     "execution_count": 110,
     "metadata": {},
     "output_type": "execute_result"
    },
    {
     "data": {
      "image/png": "[encoded data removed]",
      "text/plain": [
       "<Figure size 432x288 with 1 Axes>"
      ]
     },
     "metadata": {
      "needs_background": "light"
     },
     "output_type": "display_data"
    }
   ],
   "source": [
    "ind = (mco > 1.)*(MT == 'True')\n",
    "plt.hist(LX_cgs_MT[ind])"
   ]
  },
  {
   "cell_type": "code",
   "execution_count": 11,
   "metadata": {},
   "outputs": [
    {
     "data": {
      "text/plain": [
       "3.168808781402895e-08"
      ]
     },
     "execution_count": 11,
     "metadata": {},
     "output_type": "execute_result"
    }
   ],
   "source": []
  },
  {
   "cell_type": "code",
   "execution_count": 14,
   "metadata": {
    "scrolled": true
   },
   "outputs": [
    {
     "name": "stdout",
     "output_type": "stream",
     "text": [
      "Eddington accretion rate for 5 MSun BH: 1.83926073238e-07 , and for 1.4 Msun NS: 5.14993005065e-08\n"
     ]
    }
   ],
   "source": [
    "epsilon = 0.1\n",
    "X = 0.2\n",
    "kappa = 0.02*(1+X)   # m^2/kg\n",
    "k = (4.*np.pi*const.G.value / (epsilon*kappa*const.c.value))   # s^-1\n",
    "k = k/u.s.to(u.year)\n",
    "M_CO = 5\n",
    "Mdot_Edd = k*M_CO\n",
    "print 'Eddington accretion rate for 5 MSun BH:',k*5,', and for 1.4 Msun NS:',k*1.4"
   ]
  },
  {
   "cell_type": "markdown",
   "metadata": {},
   "source": [
    "### Calculate the mass transfer rate due to GWs and tides"
   ]
  },
  {
   "cell_type": "code",
   "execution_count": 15,
   "metadata": {},
   "outputs": [],
   "source": [
    "# This is from the solar metallicity grid of Götberg+18\n",
    "# Initial masses of the donor stars [Msun]\n",
    "minit_grid = np.array([2.0,2.21,2.44,2.7,2.99,3.3,3.65,4.04,4.46,4.93,5.45,6.03,6.66,7.37,8.15,9.0,9.96,11.01,12.17,13.45,14.87,16.44,18.17])\n",
    "# Masses of the stripped stars [Msun]\n",
    "mstrip_grid = np.array([0.35,0.38,0.44,0.51,0.58,0.66,0.74,0.85,0.97,1.11,1.27,1.43,1.64,1.88,2.17,2.49,2.87,3.32,3.85,4.45,5.12,5.88,6.72])    # MSun\n",
    "# Radii of the stripped stars [Rsun]\n",
    "rstrip_grid = np.array([0.16,0.17,0.19,0.21,0.23,0.25,0.26,0.29,0.32,0.36,0.40,0.42,0.46,0.50,0.55,0.59,0.65,0.70,0.76,0.80,0.84,0.87,0.88]) # Rsun\n",
    "\n",
    "# The duration of the stripped phases (in Myr)\n",
    "lifetime_stripped_grid = np.array([671.0,414.1,94.6,143.6,76.5,62.9,41.6,28.0,20.0,16.5,10.6,8.0,6.4,4.4,3.4,2.7,2.2,1.7,1.4,1.2,1.0,0.9,0.8]) # Myr\n",
    "# This index says which models reached central helium exhaustion\n",
    "ind_finishedHe = np.array([True]*len(lifetime_stripped_grid))\n",
    "ind_finishedHe[minit_grid==2.44] = False\n",
    "ind_finishedHe[minit_grid==2.99] = False\n"
   ]
  },
  {
   "cell_type": "code",
   "execution_count": null,
   "metadata": {},
   "outputs": [],
   "source": []
  },
  {
   "cell_type": "code",
   "execution_count": 18,
   "metadata": {},
   "outputs": [],
   "source": [
    "# Let's assume that the accretor is a neutron star\n",
    "M_CO = 1.4 \n",
    "\n",
    "# Calculate the minimum possible period (stripped star just fills its Roche lobe)\n",
    "qinv = mstrip_grid/M_CO   # inverse mass ratio\n",
    "rL = 0.49*(qinv**(2./3.))/(0.69*(qinv**(2./3.))+np.log(1.+(qinv**(1./3.))))\n",
    "a = rstrip_grid*u.R_sun.to(u.AU)/rL  # in AU\n",
    "# minimum orbital period in days\n",
    "Pmin = np.sqrt((a**3.)*4.*(np.pi**2.)/(G*(mstrip_grid+M_CO)))  \n",
    "\n",
    "# This is going to be P1\n",
    "P1 = copy.copy(Pmin)\n",
    "# And the radius of the stripped star is going to be RL1\n",
    "RL1 = copy.copy(rstrip_grid)"
   ]
  },
  {
   "cell_type": "code",
   "execution_count": 74,
   "metadata": {
    "scrolled": true
   },
   "outputs": [
    {
     "name": "stdout",
     "output_type": "stream",
     "text": [
      "M1_2.0q0.8P5.6Z0.014 profile515.data 0.49987020260049025 3.6210041125974184e-09 3.875530757554332e-08 10.702917304267674\n",
      "M1_2.44q0.8P6.4Z0.014 profile363.data 0.4996235336832145 7.95266682836236e-09 6.870416356360827e-08 8.639135153830663\n",
      "M1_2.7q0.8P6.8Z0.014 profile271.data 0.4998899794471339 1.1980688270042446e-08 9.728187753142241e-08 8.11989055542614\n",
      "M1_3.65q0.8P8.2Z0.014 profile175.data 0.4976929687937469 3.5036652101469544e-08 2.1637226631238605e-07 6.175597648021591\n",
      "M1_4.04q0.8P8.8Z0.014 profile164.data 0.4968840806825932 5.070437560014858e-08 3.0919901362028054e-07 6.098073587546052\n",
      "M1_4.46q0.8P9.4Z0.014 profile161.data 0.4863574529576926 7.242717214590974e-08 4.296302668374517e-07 5.931893433198395\n",
      "M1_4.93q0.8P10.0Z0.014 profile153.data 0.489382163386883 1.0312502176290691e-07 6.22230304306625e-07 6.033747132070283\n",
      "M1_5.45q0.8P10.7Z0.014 profile146.data 0.47672389939634546 1.4634538006376494e-07 8.789150110882146e-07 6.005758505702453\n",
      "M1_6.03q0.8P11.2Z0.014 profile140.data 0.498173395016747 1.9299100934716073e-07 1.0910830185877179e-06 5.6535432519813895\n",
      "M1_6.66q0.8P12.0Z0.014 profile140.data 0.4837041971819909 2.715534767967456e-07 1.5010069035820697e-06 5.527481810536916\n",
      "M1_8.15q0.8P14.0Z0.014 profile149.data 0.49036487632871495 5.432230221267794e-07 2.8392804436692e-06 5.226730694426568\n",
      "M1_9.96q0.8P16.6Z0.014 profile168.data 0.4968942463281624 1.0404748729168187e-06 5.244834495916791e-06 5.040808415885784\n",
      "M1_11.01q0.8P18.3Z0.014 profile169.data 0.494269752236937 1.459023911993717e-06 7.0365105316845835e-06 4.822752028833702\n",
      "M1_12.17q0.8P20.2Z0.014 profile165.data 0.49834123942636926 2.0273164370680467e-06 9.618582898905157e-06 4.7444901659337315\n",
      "M1_13.45q0.8P22.4Z0.014 profile158.data 0.49760793225936056 2.7788773483023956e-06 1.2318651336511986e-05 4.432959714482324\n",
      "M1_14.87q0.8P25.0Z0.014 profile198.data 0.49815113940652384 3.7698133943681912e-06 1.5626140014459068e-05 4.1450698959803445\n",
      "M1_16.44q0.8P28.0Z0.014 profile346.data 0.4986680963536936 5.043857049698002e-06 1.925036682445323e-05 3.8165964330027617\n",
      "M1_18.17q0.8P31.7Z0.014 profile706.data 0.49953141356692765 6.685979883819897e-06 2.2509082639875558e-05 3.3666093872564056\n"
     ]
    }
   ],
   "source": [
    "# Get the moment of interia of stripped stars from evolutionary models which provide the structure\n",
    "\n",
    "# Get all the model names\n",
    "loc_MESA = '/data001/ygoetberg/taurus/binaries/grids_180117/small_grids/grid_014/'\n",
    "mods = [name for name in os.listdir(loc_MESA) if (name[0]=='M' and name[1]=='1' and name[-1]!='z')]\n",
    "# Sort them with mass\n",
    "nbr_mods = len(mods)\n",
    "mgrid = np.zeros(nbr_mods)\n",
    "for i in range(nbr_mods):\n",
    "    mgrid[i] = np.float_(mods[i].split('M1_')[1].split('q')[0])\n",
    "ind_sort = np.argsort(mgrid)\n",
    "mgrid = mgrid[ind_sort]\n",
    "mods = np.array(mods)[ind_sort]\n",
    "\n",
    "# Locate the profile that corresponds to XHec = 0.5\n",
    "col = ['logRho','logR','he4','mass']\n",
    "Igrid = np.zeros(nbr_mods)\n",
    "Igrid_09 = np.zeros(nbr_mods)\n",
    "Igrid_crude = np.zeros(nbr_mods)\n",
    "mass_interior = [None]*nbr_mods\n",
    "logR = [None]*nbr_mods\n",
    "for i in range(nbr_mods):\n",
    "    data = np.loadtxt(loc_MESA+mods[i]+'/LOGS1/profiles.index',skiprows=1)\n",
    "    ind_05 = data[:,1] == 105\n",
    "    ind_09 = data[:,1] == 109\n",
    "    if np.sum(ind_05) > 1.:\n",
    "        ind_05 = ind_05[-1]\n",
    "    if np.sum(ind_09) > 1.:\n",
    "        ind_09 = ind_09[-1]\n",
    "    if np.sum(ind_05) == 1.:\n",
    "        tmp = int(data[ind_05,2])\n",
    "        prof_name = 'profile'+str(tmp)+'.data'\n",
    "        \n",
    "        # Read the density profile and calculate the moment of inertia\n",
    "        data2 = GetColumnMESA(loc_MESA+mods[i]+'/LOGS1/'+prof_name,col,2)\n",
    "        # Calculate the moment of inertia of the model\n",
    "        logRho = data2[col.index('logRho')]\n",
    "        logR[i] = data2[col.index('logR')]\n",
    "        he4 = data2[col.index('he4')]\n",
    "        mass_interior[i] = data2[col.index('mass')]\n",
    "        \n",
    "        rho = (10**logRho[::-1])*u.g.to(u.M_sun)/((u.cm.to(u.AU))**3.)\n",
    "        r = (10**logR[i][::-1])*u.R_sun.to(u.AU)\n",
    "        Igrid[i] = (8.*np.pi/3.)*np.trapz(rho*(r**4.),r)   # Msun AU^2\n",
    "        Igrid_crude[i] = 0.2*mstrip_grid[i]*((rstrip_grid[i]*u.R_sun.to(u.AU))**2.)\n",
    "        print mods[i], prof_name, he4[-1], Igrid[i], Igrid_crude[i], Igrid_crude[i]/Igrid[i]\n",
    "    else:\n",
    "        mass_interior[i] = np.zeros(2)\n",
    "        logR[i] = np.zeros(2)\n",
    "    \n",
    "    \"\"\"\n",
    "    if np.sum(ind_09) == 1.:\n",
    "        tmp = int(data[ind_09,2])\n",
    "        prof_name = 'profile'+str(tmp)+'.data'\n",
    "        \n",
    "        # Read the density profile and calculate the moment of inertia\n",
    "        data2 = GetColumnMESA(loc_MESA+mods[i]+'/LOGS1/'+prof_name,col,2)\n",
    "        # Calculate the moment of inertia of the model\n",
    "        logRho = data2[col.index('logRho')]\n",
    "        logR = data2[col.index('logR')]\n",
    "        he4 = data2[col.index('he4')]\n",
    "        \n",
    "        rho = (10**logRho[::-1])*u.g.to(u.M_sun)/((u.cm.to(u.AU))**3.)\n",
    "        r = (10**logR[::-1])*u.R_sun.to(u.AU)\n",
    "        Igrid_09[i] = (8.*np.pi/3.)*np.trapz(rho*(r**4.),r)   # Msun AU^2\n",
    "        print mods[i], prof_name, he4[-1], Igrid_09[i]\n",
    "    \"\"\""
   ]
  },
  {
   "cell_type": "code",
   "execution_count": 21,
   "metadata": {},
   "outputs": [
    {
     "data": {
      "image/png": "[encoded data removed]",
      "text/plain": [
       "<Figure size 432x288 with 1 Axes>"
      ]
     },
     "metadata": {
      "needs_background": "light"
     },
     "output_type": "display_data"
    },
    {
     "data": {
      "image/png": "[encoded data removed]",
      "text/plain": [
       "<Figure size 432x288 with 1 Axes>"
      ]
     },
     "metadata": {
      "needs_background": "light"
     },
     "output_type": "display_data"
    }
   ],
   "source": [
    "# This shows the difference between the different times during evolution\n",
    "plt.loglog(mstrip_grid,Igrid,'.b')      # XHec = 0.5 (midway)\n",
    "#plt.loglog(mstrip_grid,Igrid_09,'.m')   # XHec = 0.9 (early)\n",
    "#plt.loglog(mstrip_grid,Igrid_crude,'.g')   # Marsh+04\n",
    "plt.show()\n",
    "\n",
    "# This shows that it is ok to put a polynomial fit\n",
    "plt.loglog(mstrip_grid,Igrid,'.b')\n",
    "plt.loglog(mstrip_grid,Igrid,'-b')\n",
    "ind_I = Igrid != 0.\n",
    "coeff_I = np.polyfit(np.log10(mstrip_grid[ind_I]),np.log10(Igrid[ind_I]),2)\n",
    "mm = np.linspace(0.3,8,100)\n",
    "fit = 10**np.polyval(coeff_I,np.log10(mm))\n",
    "plt.loglog(mm,fit,'-r')\n",
    "plt.show()"
   ]
  },
  {
   "cell_type": "code",
   "execution_count": null,
   "metadata": {},
   "outputs": [],
   "source": []
  },
  {
   "cell_type": "code",
   "execution_count": 76,
   "metadata": {},
   "outputs": [
    {
     "data": {
      "image/png": "[encoded data removed]",
      "text/plain": [
       "<Figure size 432x288 with 1 Axes>"
      ]
     },
     "metadata": {
      "needs_background": "light"
     },
     "output_type": "display_data"
    }
   ],
   "source": [
    "for i in range(nbr_mods):\n",
    "    if len(logR[i])>2:\n",
    "        plt.plot(10**logR[i],mass_interior[i])"
   ]
  },
  {
   "cell_type": "code",
   "execution_count": 150,
   "metadata": {},
   "outputs": [
    {
     "name": "stdout",
     "output_type": "stream",
     "text": [
      "[671.         414.1        245.30796701 143.6         94.38217478\n",
      "  62.9         41.6         28.          20.          16.5\n",
      "  10.6          8.           6.4          4.4          3.4\n",
      "   2.7          2.2          1.7          1.4          1.2\n",
      "   1.           0.9          0.8       ]\n"
     ]
    }
   ],
   "source": [
    "delta_t = 10**np.interp(np.log10(minit_grid),np.log10(minit_grid[ind_finishedHe]),\n",
    "                    np.log10(lifetime_stripped_grid[ind_finishedHe])) # Myr\n",
    "print delta_t\n",
    "delta_t = 0.2*delta_t*u.Myr.to(u.day)"
   ]
  },
  {
   "cell_type": "code",
   "execution_count": 135,
   "metadata": {},
   "outputs": [
    {
     "data": {
      "text/plain": [
       "(array([0.04350403, 0.0457676 , 0.05030018, 0.05428175, 0.05828206,\n",
       "        0.06179139, 0.06173027, 0.06755801, 0.07291745, 0.08079777,\n",
       "        0.08777259, 0.08828516, 0.09350522, 0.09781331, 0.10361203,\n",
       "        0.10594397, 0.11231521, 0.11469871, 0.11827466, 0.11657533,\n",
       "        0.11472996, 0.11069549, 0.10336654]),\n",
       " array([       nan,        nan,        nan, 0.02786474, 0.04273662,\n",
       "        0.05331626, 0.055726  , 0.06376581, 0.07028702, 0.07876295,\n",
       "        0.08650752, 0.0872428 , 0.09265832, 0.09721079, 0.10313779,\n",
       "        0.10553927, 0.11198095, 0.11441951, 0.11802995, 0.11633533,\n",
       "        0.11450155, 0.11045319, 0.10309924]),\n",
       " array([0.16, 0.17, 0.19, 0.21, 0.23, 0.25, 0.26, 0.29, 0.32, 0.36, 0.4 ,\n",
       "        0.42, 0.46, 0.5 , 0.55, 0.59, 0.65, 0.7 , 0.76, 0.8 , 0.84, 0.87,\n",
       "        0.88]))"
      ]
     },
     "execution_count": 135,
     "metadata": {},
     "output_type": "execute_result"
    }
   ],
   "source": [
    "P1, P2, RL1"
   ]
  },
  {
   "cell_type": "code",
   "execution_count": 151,
   "metadata": {},
   "outputs": [
    {
     "name": "stderr",
     "output_type": "stream",
     "text": [
      "/home/ygoetberg/anaconda3/envs/venv/lib/python2.7/site-packages/ipykernel_launcher.py:27: RuntimeWarning: invalid value encountered in power\n"
     ]
    }
   ],
   "source": [
    "# Calculate the new period when accounting for GWs and tides\n",
    "\n",
    "Istrip = 10**np.polyval(coeff_I,np.log10(mstrip_grid))    # [Msun AU^2]\n",
    "#I2 = 0.2*M_CO*((0.005*u.R_sun.to(u.AU))**2.)\n",
    "I2 = 0.    # Removing the tides on neutron stars and black holes\n",
    "\n",
    "\n",
    "# Orbital frequency\n",
    "Omega = 1./P1   # day^-1\n",
    "\n",
    "# Stellar angular momentum\n",
    "Jstar = (Istrip + I2)*Omega\n",
    "\n",
    "# Orbital angular momentum \n",
    "a = ((P1**2.)*G*(mstrip_grid+M_CO)/(4.*(np.pi**2.)))**(1./3.)   # AU\n",
    "Jorb = np.sqrt(G*a/(mstrip_grid+M_CO))*mstrip_grid*M_CO \n",
    "\n",
    "\n",
    "M = mstrip_grid+M_CO   # Total mass of the system \n",
    "# Constants\n",
    "C1 = (-96./5.)*((G**3.)/(c_AUday**5.))*(mstrip_grid*M_CO*M)/((G*M/(4.*(np.pi**2.)))**(4./3.))\n",
    "C2 = 1. + (1./(1.-3.*Jstar/Jorb))\n",
    "C = C1*C2\n",
    "D = (3./8.)*(P1**(8./3.))\n",
    "\n",
    "# Get the new orbital periods\n",
    "P2 = ((2.**(9./8.))/(3.**(3./8.)))*((C*delta_t + D)**(3./8.))"
   ]
  },
  {
   "cell_type": "markdown",
   "metadata": {},
   "source": [
    "$\\dfrac{P^2}{a^3} = \\dfrac{4\\pi^2}{G(M_1+M_2)}$"
   ]
  },
  {
   "cell_type": "code",
   "execution_count": 152,
   "metadata": {
    "scrolled": true
   },
   "outputs": [
    {
     "name": "stdout",
     "output_type": "stream",
     "text": [
      "[(0.16, nan), (0.17, nan), (0.19, nan), (0.21, nan), (0.23, nan), (0.25, 0.1922249839568107), (0.26, 0.2210393563624492), (0.29, 0.2666194143471495), (0.32, 0.30389131105295447), (0.36, 0.34753092883883213), (0.4, 0.39217864092083127), (0.42, 0.41329423960363454), (0.46, 0.4543847257330083), (0.5, 0.4958634306639888), (0.55, 0.5466253700572726), (0.59, 0.5869814913670409), (0.65, 0.6474117047166257), (0.7, 0.6977215665105336), (0.76, 0.7578982778901991), (0.8, 0.7977987024736527), (0.84, 0.8377650865291104), (0.87, 0.86745430891266), (0.88, 0.876956511002328)]\n"
     ]
    }
   ],
   "source": [
    "# Now, we go back to Roche-lobe radius\n",
    "a2 = ((P2**2.)*G*(mstrip_grid+M_CO)/(4.*(np.pi**2.)))**(1./3.)   # AU\n",
    "# Assuming for this that no mass is lost or transferred\n",
    "qinv = mstrip_grid/M_CO   # inverse mass ratio\n",
    "rL = 0.49*(qinv**(2./3.))/(0.69*(qinv**(2./3.))+np.log(1.+(qinv**(1./3.))))\n",
    "RL2 = a2*rL*u.AU.to(u.R_sun)\n",
    "print zip(RL1,RL2)"
   ]
  },
  {
   "cell_type": "code",
   "execution_count": 153,
   "metadata": {},
   "outputs": [
    {
     "name": "stdout",
     "output_type": "stream",
     "text": [
      "[0.19222498 0.19222498 0.19222498 0.19222498 0.19222498 0.19222498\n",
      " 0.22103936 0.26661941 0.30389131 0.34753093 0.39217864 0.41329424\n",
      " 0.45438473 0.49586343 0.54662537 0.58698149 0.6474117  0.69772157\n",
      " 0.75789828 0.7977987  0.83776509 0.86745431 0.87695651]\n"
     ]
    }
   ],
   "source": [
    "ind_tmp = np.isnan(RL2)\n",
    "RL2[ind_tmp] = np.interp(RL1[ind_tmp],RL1[ind_tmp==False],RL2[ind_tmp==False])\n",
    "print RL2"
   ]
  },
  {
   "cell_type": "code",
   "execution_count": 154,
   "metadata": {},
   "outputs": [],
   "source": [
    "# Calculate the mass transfer rate\n",
    "#rho_MSunRsun = rho_tmp*u.g.to(u.M_sun)/((u.cm.to(u.R_sun))**3.)\n",
    "#delta_M = (4.*np.pi*rho_MSunRsun/3.)*((RL1**3.)-(RL2**3.))\n",
    "\n",
    "mstrip_grid_1 = np.zeros(nbr_mods)\n",
    "mstrip_grid_2 = np.zeros(nbr_mods)\n",
    "for i in range(nbr_mods):\n",
    "    if (len(logR[i])>2):\n",
    "        mstrip_grid_1[i] = np.max(mass_interior[i][10**logR[i] < RL1[i]])\n",
    "        if (RL2[i] != 0.):\n",
    "            mstrip_grid_2[i] = np.max(mass_interior[i][10**logR[i]<RL2[i]])\n",
    "        \n"
   ]
  },
  {
   "cell_type": "code",
   "execution_count": null,
   "metadata": {},
   "outputs": [],
   "source": []
  },
  {
   "cell_type": "code",
   "execution_count": 155,
   "metadata": {},
   "outputs": [
    {
     "data": {
      "text/plain": [
       "(array([0.16, 0.17, 0.19, 0.21, 0.23, 0.25, 0.26, 0.29, 0.32, 0.36, 0.4 ,\n",
       "        0.42, 0.46, 0.5 , 0.55, 0.59, 0.65, 0.7 , 0.76, 0.8 , 0.84, 0.87,\n",
       "        0.88]),\n",
       " array([0.19222498, 0.19222498, 0.19222498, 0.19222498, 0.19222498,\n",
       "        0.19222498, 0.22103936, 0.26661941, 0.30389131, 0.34753093,\n",
       "        0.39217864, 0.41329424, 0.45438473, 0.49586343, 0.54662537,\n",
       "        0.58698149, 0.6474117 , 0.69772157, 0.75789828, 0.7977987 ,\n",
       "        0.83776509, 0.86745431, 0.87695651]))"
      ]
     },
     "execution_count": 155,
     "metadata": {},
     "output_type": "execute_result"
    }
   ],
   "source": [
    "RL1, RL2"
   ]
  },
  {
   "cell_type": "code",
   "execution_count": 156,
   "metadata": {},
   "outputs": [],
   "source": [
    "ind_tmp = mstrip_grid_1 > 0.\n",
    "mstrip_grid_1 = np.interp(mstrip_grid, mstrip_grid[ind_tmp],mstrip_grid_1[ind_tmp])\n",
    "ind_tmp = mstrip_grid_2 > 0.\n",
    "mstrip_grid_2 = np.interp(mstrip_grid, mstrip_grid[ind_tmp],mstrip_grid_2[ind_tmp])"
   ]
  },
  {
   "cell_type": "code",
   "execution_count": 157,
   "metadata": {},
   "outputs": [
    {
     "data": {
      "text/plain": [
       "array([0.35, 0.38, 0.44, 0.51, 0.58, 0.66, 0.74, 0.85, 0.97, 1.11, 1.27,\n",
       "       1.43, 1.64, 1.88, 2.17, 2.49, 2.87, 3.32, 3.85, 4.45, 5.12, 5.88,\n",
       "       6.72])"
      ]
     },
     "execution_count": 157,
     "metadata": {},
     "output_type": "execute_result"
    }
   ],
   "source": [
    "mstrip_grid"
   ]
  },
  {
   "cell_type": "code",
   "execution_count": 159,
   "metadata": {},
   "outputs": [
    {
     "name": "stderr",
     "output_type": "stream",
     "text": [
      "/home/ygoetberg/anaconda3/envs/venv/lib/python2.7/site-packages/ipykernel_launcher.py:4: RuntimeWarning: divide by zero encountered in log10\n",
      "  after removing the cwd from sys.path.\n"
     ]
    },
    {
     "data": {
      "text/plain": [
       "Text(0,0.5,'log Mdot [Msun/yr]')"
      ]
     },
     "execution_count": 159,
     "metadata": {},
     "output_type": "execute_result"
    },
    {
     "data": {
      "image/png": "[encoded data removed]",
      "text/plain": [
       "<Figure size 432x288 with 1 Axes>"
      ]
     },
     "metadata": {
      "needs_background": "light"
     },
     "output_type": "display_data"
    }
   ],
   "source": [
    "delta_M = mstrip_grid_1-mstrip_grid_2\n",
    "Mdot_GWtides = delta_M/(delta_t*u.day.to(u.year))\n",
    "\n",
    "plt.plot(mstrip_grid,np.log10(Mdot_GWtides),'.')\n",
    "plt.xlabel('Mstrip [Msun]')\n",
    "plt.ylabel('log Mdot [Msun/yr]')"
   ]
  },
  {
   "cell_type": "markdown",
   "metadata": {},
   "source": [
    "I think the above figure shows that GWs and tides are not super efficient in tightening the system and they don't give rise to much mass transfer. I think for the more massive systems (with NS and BH companions), we can assume that $\\dot{M} \\lesssim 10^{-16} M_{\\odot}/$yr, which is much lower than even the wind mass loss rate. Did I calculate correctly?"
   ]
  },
  {
   "cell_type": "markdown",
   "metadata": {},
   "source": [
    "I think we can safely claim that the systems during mass transfer are not going to show anything extra - they will not be ULXs or something like that. We should just go for the Bondi-Hoyle mass accretion for all of them, the wind does all this. Maybe the wind will be funneled. That might increase the mass accretion rate. "
   ]
  }
 ],
 "metadata": {
  "kernelspec": {
   "display_name": "Python 3",
   "language": "python",
   "name": "python3"
  },
  "language_info": {
   "codemirror_mode": {
    "name": "ipython",
    "version": 3
   },
   "file_extension": ".py",
   "mimetype": "text/x-python",
   "name": "python",
   "nbconvert_exporter": "python",
   "pygments_lexer": "ipython3",
   "version": "3.7.5"
  }
 },
 "nbformat": 4,
 "nbformat_minor": 4
}
